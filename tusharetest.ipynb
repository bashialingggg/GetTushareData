{
 "cells": [
  {
   "cell_type": "code",
   "execution_count": 1,
   "metadata": {
    "collapsed": true
   },
   "outputs": [],
   "source": [
    "import tushare as ts\n",
    "import pandas as pd\n",
    "#获取api\n",
    "ts.set_token('a1b8fca80c8d74d07a0225147bcd79e6a96163bd2f9f370a9914adf8')\n",
    "pro = ts.pro_api()\n",
    "#获取股票列表\n",
    "#exchange:交易所；is_hs：是否沪深港通标的，N否 H沪股通 S深股通；list_status：上市状态： L上市 D退市 P暂停上市\n"
   ]
  },
  {
   "cell_type": "code",
   "execution_count": 3,
   "metadata": {
    "collapsed": true
   },
   "outputs": [],
   "source": [
    "def query_basic_stocks(list_status):\n",
    "    count = 0 \n",
    "    while count < 10 :\n",
    "        try:\n",
    "            stocks = pro.stock_basic(list_status=list_status,fields='ts_code,symbol,name,area,industry,list_date,market')\n",
    "            count = 11\n",
    "        except Exception as e:\n",
    "            print(e)\n",
    "            count = count + 1\n",
    "    stocks.rename(columns = {'ts_code':'TS代码','symbol':'股票代码'\n",
    "        ,'name':'股票名称','area':'所在地域','industry':'所属行业'\n",
    "        ,'market':'市场类型','list_date':'上市日期'},inplace=True)\n",
    "    stocks.to_csv(r'/Users/xiesimao/py/tusharedata/financaildata/stock_basic_{}.csv'.format(list_status),sep=',',index=False,encoding='utf_8_sig')\n",
    "    return stocks\n",
    "if __name__ == '__main__':\n",
    "    for list_status in ['L','D','P']:\n",
    "        query_basic_stocks(list_status)"
   ]
  },
  {
   "cell_type": "code",
   "execution_count": 8,
   "metadata": {},
   "outputs": [
    {
     "name": "stdout",
     "output_type": "stream",
     "text": [
      "<class 'pandas.core.frame.DataFrame'>\nIndex: 0 entries\nData columns (total 7 columns):\nTS代码    0 non-null object\n股票代码    0 non-null object\n股票名称    0 non-null object\n所在地域    0 non-null object\n所属行业    0 non-null object\n市场类型    0 non-null object\n上市日期    0 non-null object\ndtypes: object(7)\nmemory usage: 0.0+ bytes\nNone\nEmpty DataFrame\nColumns: [TS代码, 股票代码, 股票名称, 所在地域, 所属行业, 市场类型, 上市日期]\nIndex: []\n"
     ]
    }
   ],
   "source": [
    "count = 0 \n",
    "while count < 10 :\n",
    "    try:\n",
    "        stocks = pro.stock_basic(list_status='P',fields='ts_code,symbol,name,area,industry,list_date,market')\n",
    "        count = 11\n",
    "    except Exception as e:\n",
    "        print(e)\n",
    "        count = count + 1\n",
    "stocks.rename(columns = {'ts_code':'TS代码','symbol':'股票代码'\n",
    "        ,'name':'股票名称','area':'所在地域','industry':'所属行业'\n",
    "        ,'market':'市场类型','list_date':'上市日期'},inplace=True)\n",
    "print(stocks.info())\n",
    "print(stocks.head())"
   ]
  },
  {
   "cell_type": "code",
   "execution_count": 7,
   "metadata": {
    "collapsed": false
   },
   "outputs": [],
   "source": [
    "\n",
    "import time\n",
    "def query_financaildata(type,ts_code_list,start_date,end_date):\n",
    "    dataframe = []\n",
    "    dataframe_list = []\n",
    "    for ts_code in ts_code_list:\n",
    "        count = 0\n",
    "        while count < 10:\n",
    "            try:\n",
    "                data = pro.query(type,ts_code=ts_code, start_date=start_date, end_date=end_date)\n",
    "                count = 11\n",
    "                dataframe.append(data)\n",
    "            except Exception as e:\n",
    "                print(e)\n",
    "                count = count + 1\n",
    "        dataframe_list.append(ts_code)\n",
    "        time.sleep(0.75)\n",
    "    result = pd.concat(dataframe)\n",
    "    datafilename = '/Users/xiesimao/py/tusharedata/financaildata/{0}.csv'.format('_'+type+'_'+start_date+'_'+end_date)\n",
    "    result.to_csv(datafilename,sep=',',index=False,encoding='utf_8_sig')\n",
    "    print(dataframe_list)\n",
    " \n",
    "if __name__ == '__main__' :\n",
    "    ts_code_list = stocks['TS代码']\n",
    "    # income 利润表；balancesheet 资产负债表；cashflow：现金流量表\n",
    "    for type in ['income','balancesheet','cashflow']:\n",
    "        query_financaildata(type =type,ts_code_list=ts_code_list,start_date='19900101',end_date='20180930')"
   ]
  },
  {
   "cell_type": "code",
   "execution_count": 13,
   "metadata": {},
   "outputs": [],
   "source": []
  },
  {
   "cell_type": "code",
   "execution_count": null,
   "metadata": {},
   "outputs": [],
   "source": []
  }
 ],
 "metadata": {
  "kernelspec": {
   "display_name": "Python 2",
   "language": "python",
   "name": "python2"
  },
  "language_info": {
   "codemirror_mode": {
    "name": "ipython",
    "version": 2
   },
   "file_extension": ".py",
   "mimetype": "text/x-python",
   "name": "python",
   "nbconvert_exporter": "python",
   "pygments_lexer": "ipython2",
   "version": "2.7.6"
  }
 },
 "nbformat": 4,
 "nbformat_minor": 0
}
